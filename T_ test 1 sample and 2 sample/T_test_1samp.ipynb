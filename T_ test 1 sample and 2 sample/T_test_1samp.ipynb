{
 "cells": [
  {
   "cell_type": "code",
   "execution_count": 6,
   "id": "22eccae1",
   "metadata": {},
   "outputs": [],
   "source": [
    "import numpy as np\n",
    "import pandas as pd\n",
    "import matplotlib.pyplot as plt\n",
    "import seaborn as sns\n",
    "import scipy.stats as stats"
   ]
  },
  {
   "cell_type": "code",
   "execution_count": 10,
   "id": "a2545e15",
   "metadata": {},
   "outputs": [],
   "source": [
    "iim_age=stats.poisson.rvs(loc=5,mu=30,size=120) "
   ]
  },
  {
   "cell_type": "code",
   "execution_count": 13,
   "id": "0b765425",
   "metadata": {},
   "outputs": [],
   "source": [
    "v=pd.DataFrame(iim_age)"
   ]
  },
  {
   "cell_type": "code",
   "execution_count": 30,
   "id": "8267b20c",
   "metadata": {},
   "outputs": [
    {
     "data": {
      "text/html": [
       "<div>\n",
       "<style scoped>\n",
       "    .dataframe tbody tr th:only-of-type {\n",
       "        vertical-align: middle;\n",
       "    }\n",
       "\n",
       "    .dataframe tbody tr th {\n",
       "        vertical-align: top;\n",
       "    }\n",
       "\n",
       "    .dataframe thead th {\n",
       "        text-align: right;\n",
       "    }\n",
       "</style>\n",
       "<table border=\"1\" class=\"dataframe\">\n",
       "  <thead>\n",
       "    <tr style=\"text-align: right;\">\n",
       "      <th></th>\n",
       "      <th>0</th>\n",
       "    </tr>\n",
       "  </thead>\n",
       "  <tbody>\n",
       "    <tr>\n",
       "      <th>0</th>\n",
       "      <td>32</td>\n",
       "    </tr>\n",
       "    <tr>\n",
       "      <th>1</th>\n",
       "      <td>37</td>\n",
       "    </tr>\n",
       "    <tr>\n",
       "      <th>2</th>\n",
       "      <td>36</td>\n",
       "    </tr>\n",
       "    <tr>\n",
       "      <th>3</th>\n",
       "      <td>34</td>\n",
       "    </tr>\n",
       "    <tr>\n",
       "      <th>4</th>\n",
       "      <td>42</td>\n",
       "    </tr>\n",
       "    <tr>\n",
       "      <th>...</th>\n",
       "      <td>...</td>\n",
       "    </tr>\n",
       "    <tr>\n",
       "      <th>115</th>\n",
       "      <td>23</td>\n",
       "    </tr>\n",
       "    <tr>\n",
       "      <th>116</th>\n",
       "      <td>28</td>\n",
       "    </tr>\n",
       "    <tr>\n",
       "      <th>117</th>\n",
       "      <td>36</td>\n",
       "    </tr>\n",
       "    <tr>\n",
       "      <th>118</th>\n",
       "      <td>34</td>\n",
       "    </tr>\n",
       "    <tr>\n",
       "      <th>119</th>\n",
       "      <td>34</td>\n",
       "    </tr>\n",
       "  </tbody>\n",
       "</table>\n",
       "<p>120 rows × 1 columns</p>\n",
       "</div>"
      ],
      "text/plain": [
       "      0\n",
       "0    32\n",
       "1    37\n",
       "2    36\n",
       "3    34\n",
       "4    42\n",
       "..   ..\n",
       "115  23\n",
       "116  28\n",
       "117  36\n",
       "118  34\n",
       "119  34\n",
       "\n",
       "[120 rows x 1 columns]"
      ]
     },
     "execution_count": 30,
     "metadata": {},
     "output_type": "execute_result"
    }
   ],
   "source": [
    "v"
   ]
  },
  {
   "cell_type": "code",
   "execution_count": 19,
   "id": "878c7700",
   "metadata": {},
   "outputs": [
    {
     "data": {
      "text/plain": [
       "32    14\n",
       "36    12\n",
       "38    11\n",
       "35     9\n",
       "37     9\n",
       "34     9\n",
       "31     7\n",
       "42     6\n",
       "39     6\n",
       "43     4\n",
       "30     4\n",
       "28     3\n",
       "27     3\n",
       "41     3\n",
       "45     3\n",
       "40     2\n",
       "44     2\n",
       "47     2\n",
       "48     2\n",
       "33     2\n",
       "29     2\n",
       "21     1\n",
       "25     1\n",
       "23     1\n",
       "22     1\n",
       "18     1\n",
       "dtype: int64"
      ]
     },
     "execution_count": 19,
     "metadata": {},
     "output_type": "execute_result"
    }
   ],
   "source": [
    "v.value_counts()"
   ]
  },
  {
   "cell_type": "code",
   "execution_count": 9,
   "id": "db742ec6",
   "metadata": {},
   "outputs": [
    {
     "name": "stdout",
     "output_type": "stream",
     "text": [
      "Help on method rvs in module scipy.stats._distn_infrastructure:\n",
      "\n",
      "rvs(*args, **kwargs) method of scipy.stats._discrete_distns.poisson_gen instance\n",
      "    Random variates of given type.\n",
      "    \n",
      "    Parameters\n",
      "    ----------\n",
      "    arg1, arg2, arg3,... : array_like\n",
      "        The shape parameter(s) for the distribution (see docstring of the\n",
      "        instance object for more information).\n",
      "    loc : array_like, optional\n",
      "        Location parameter (default=0).\n",
      "    size : int or tuple of ints, optional\n",
      "        Defining number of random variates (Default is 1). Note that `size`\n",
      "        has to be given as keyword, not as positional argument.\n",
      "    random_state : {None, int, `numpy.random.Generator`,\n",
      "                    `numpy.random.RandomState`}, optional\n",
      "    \n",
      "        If `seed` is None (or `np.random`), the `numpy.random.RandomState`\n",
      "        singleton is used.\n",
      "        If `seed` is an int, a new ``RandomState`` instance is used,\n",
      "        seeded with `seed`.\n",
      "        If `seed` is already a ``Generator`` or ``RandomState`` instance\n",
      "        then that instance is used.\n",
      "    \n",
      "    Returns\n",
      "    -------\n",
      "    rvs : ndarray or scalar\n",
      "        Random variates of given `size`.\n",
      "\n"
     ]
    }
   ],
   "source": [
    "\n",
    "help(stats.poisson.rvs)"
   ]
  },
  {
   "cell_type": "code",
   "execution_count": 31,
   "id": "c6e5d8d1",
   "metadata": {},
   "outputs": [],
   "source": [
    "classA_age=np.random.choice(iim_age,size=25)   # sample taken of 25 size"
   ]
  },
  {
   "cell_type": "code",
   "execution_count": 32,
   "id": "e6617f65",
   "metadata": {},
   "outputs": [
    {
     "data": {
      "text/plain": [
       "array([38, 37, 31, 32, 30, 38, 36, 31, 33, 37, 35, 35, 34, 38, 38, 38, 43,\n",
       "       42, 31, 36, 38, 36, 35, 31, 27], dtype=int64)"
      ]
     },
     "execution_count": 32,
     "metadata": {},
     "output_type": "execute_result"
    }
   ],
   "source": [
    "classA_age"
   ]
  },
  {
   "cell_type": "code",
   "execution_count": 33,
   "id": "473c1783",
   "metadata": {},
   "outputs": [
    {
     "data": {
      "text/plain": [
       "Ttest_1sampResult(statistic=-0.4072085441755966, pvalue=0.6874640005095608)"
      ]
     },
     "execution_count": 33,
     "metadata": {},
     "output_type": "execute_result"
    }
   ],
   "source": [
    "stats.ttest_1samp(classA_age,np.mean(iim_age))  # ttest"
   ]
  },
  {
   "cell_type": "code",
   "execution_count": 34,
   "id": "783d0f19",
   "metadata": {},
   "outputs": [],
   "source": [
    "ttest,p_value=stats.ttest_1samp(classA_age,np.mean(iim_age))"
   ]
  },
  {
   "cell_type": "code",
   "execution_count": 35,
   "id": "0a88d8d3",
   "metadata": {},
   "outputs": [
    {
     "data": {
      "text/plain": [
       "0.6874640005095608"
      ]
     },
     "execution_count": 35,
     "metadata": {},
     "output_type": "execute_result"
    }
   ],
   "source": [
    "p_value"
   ]
  },
  {
   "cell_type": "code",
   "execution_count": 36,
   "id": "a44cfab1",
   "metadata": {},
   "outputs": [
    {
     "name": "stdout",
     "output_type": "stream",
     "text": [
      "Null Hypothesis is accected!There is not a significant difference between mean of sample and mean of population\n"
     ]
    }
   ],
   "source": [
    "if p_value<=0.05:\n",
    "    print(\"Null Hypothesis is rejected! There is a significant difference between mean of sample and mean of population\")\n",
    "else:\n",
    "    print('Null Hypothesis is accected!There is not a significant difference between mean of sample and mean of population')"
   ]
  },
  {
   "cell_type": "code",
   "execution_count": 37,
   "id": "d23cb5f7",
   "metadata": {},
   "outputs": [
    {
     "name": "stdout",
     "output_type": "stream",
     "text": [
      "35.2\n",
      "35.50833333333333\n"
     ]
    }
   ],
   "source": [
    "print(np.mean(classA_age))\n",
    "print(np.mean(iim_age))"
   ]
  },
  {
   "cell_type": "code",
   "execution_count": 48,
   "id": "c1cf4b35",
   "metadata": {},
   "outputs": [
    {
     "data": {
      "text/plain": [
       "<AxesSubplot:ylabel='Count'>"
      ]
     },
     "execution_count": 48,
     "metadata": {},
     "output_type": "execute_result"
    },
    {
     "data": {
      "image/png": "[encoded data removed]",
      "text/plain": [
       "<Figure size 640x480 with 1 Axes>"
      ]
     },
     "metadata": {},
     "output_type": "display_data"
    }
   ],
   "source": [
    "sns.histplot(iim_age,kde=True)"
   ]
  },
  {
   "cell_type": "code",
   "execution_count": 52,
   "id": "087964dd",
   "metadata": {},
   "outputs": [
    {
     "data": {
      "text/plain": [
       "<AxesSubplot:ylabel='Count'>"
      ]
     },
     "execution_count": 52,
     "metadata": {},
     "output_type": "execute_result"
    },
    {
     "data": {
      "image/png": "[encoded data removed]",
      "text/plain": [
       "<Figure size 640x480 with 1 Axes>"
      ]
     },
     "metadata": {},
     "output_type": "display_data"
    }
   ],
   "source": [
    "sns.histplot(classA_age,kde=True,bins=5)"
   ]
  },
  {
   "cell_type": "code",
   "execution_count": null,
   "id": "2aaa6f10",
   "metadata": {},
   "outputs": [],
   "source": []
  }
 ],
 "metadata": {
  "kernelspec": {
   "display_name": "Python 3 (ipykernel)",
   "language": "python",
   "name": "python3"
  },
  "language_info": {
   "codemirror_mode": {
    "name": "ipython",
    "version": 3
   },
   "file_extension": ".py",
   "mimetype": "text/x-python",
   "name": "python",
   "nbconvert_exporter": "python",
   "pygments_lexer": "ipython3",
   "version": "3.10.6"
  }
 },
 "nbformat": 4,
 "nbformat_minor": 5
}
